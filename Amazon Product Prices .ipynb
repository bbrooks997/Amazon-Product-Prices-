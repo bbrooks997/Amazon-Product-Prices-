{
 "cells": [
  {
   "cell_type": "code",
   "execution_count": 16,
   "id": "9e114671",
   "metadata": {},
   "outputs": [
    {
     "name": "stdout",
     "output_type": "stream",
     "text": [
      "The highest price is 156\n",
      "The lowest price is 36\n",
      "The median price is 93.5\n",
      "The average price is 97.0\n",
      "The median is larger than the average? False\n",
      "['Castrion Lift', 99, 109, 89, 59, 85, 156, 150, 36, 98, 89]\n",
      "['Castrion Lift', 99, 109, 89, 59, 85, 150, 36, 98, 89]\n",
      "['Adipower Weightlifting Shoes', 150]\n",
      "['Castrion Lift', 99, 109, 89, 59, 85, 150, 36, 98, 89, ['Adipower Weightlifting Shoes', 150]]\n"
     ]
    }
   ],
   "source": [
    "import statistics                                     ## to use the median function \n",
    "\n",
    "numbers = [99, 109, 89, 59, 85, 156, 150, 36, 98, 89] ## first 10 pieces of search results \n",
    "\n",
    "HighestPrice = max(numbers)                           ## highest price on list \n",
    "LowestPrice = min(numbers)                            ## lowest price on list \n",
    "MedianPrice = statistics.median(numbers)              ## median price on list \n",
    "AveragePrice = sum(numbers) / len(numbers)            ## average price on list \n",
    "\n",
    "print(\"The highest price is \" + str(HighestPrice))    \n",
    "print(\"The lowest price is \" + str(LowestPrice))\n",
    "print(\"The median price is \" + str(MedianPrice))\n",
    "print(\"The average price is \" + str(AveragePrice))\n",
    "\n",
    "\n",
    "\n",
    "Comparison = MedianPrice > AveragePrice               ## determine if the median price is greater than the average price \n",
    "\n",
    "print(\"The median is larger than the average? \" + str(Comparison))\n",
    "\n",
    "\n",
    "\n",
    "ProductName = \"Castrion Lift\"                         ## name of product \n",
    "numbers.insert(0, ProductName)                        ## insert name of product into list \n",
    "\n",
    "print(numbers)                                        ## list with the added product name \n",
    "\n",
    "\n",
    "                                           \n",
    "numbers.remove(HighestPrice)                          ## remove highest price on list \n",
    "\n",
    "print(numbers)                                        ## list with the highest number removed \n",
    "\n",
    "\n",
    "\n",
    "YourFavoriteProduct = [\"Adipower Weightlifting Shoes\", 150]  ## favorite product with the price as a list\n",
    "\n",
    "numbers.append(YourFavoriteProduct)                          ## add the list mentioned above to the origianl list \n",
    "\n",
    "\n",
    "print(YourFavoriteProduct)\n",
    "print(numbers)\n",
    "\n",
    "\n"
   ]
  },
  {
   "cell_type": "code",
   "execution_count": null,
   "id": "5f39aa4a",
   "metadata": {},
   "outputs": [],
   "source": []
  }
 ],
 "metadata": {
  "kernelspec": {
   "display_name": "Python 3 (ipykernel)",
   "language": "python",
   "name": "python3"
  },
  "language_info": {
   "codemirror_mode": {
    "name": "ipython",
    "version": 3
   },
   "file_extension": ".py",
   "mimetype": "text/x-python",
   "name": "python",
   "nbconvert_exporter": "python",
   "pygments_lexer": "ipython3",
   "version": "3.11.5"
  }
 },
 "nbformat": 4,
 "nbformat_minor": 5
}
